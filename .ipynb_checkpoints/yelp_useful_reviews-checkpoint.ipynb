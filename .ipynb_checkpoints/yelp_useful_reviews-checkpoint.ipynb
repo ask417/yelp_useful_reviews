{
 "cells": [
  {
   "cell_type": "code",
   "execution_count": 14,
   "metadata": {
    "collapsed": true
   },
   "outputs": [],
   "source": [
    "# This tells matplotlib not to try opening a new window for each plot.\n",
    "%matplotlib inline\n",
    "\n",
    "# General libraries.\n",
    "import re\n",
    "import numpy as np\n",
    "import matplotlib.pyplot as plt\n",
    "import pandas as pd\n",
    "\n",
    "# SK-learn libraries for learning.\n",
    "from sklearn.pipeline import Pipeline\n",
    "from sklearn.neighbors import KNeighborsClassifier\n",
    "from sklearn.linear_model import LogisticRegression\n",
    "from sklearn.naive_bayes import BernoulliNB\n",
    "from sklearn.naive_bayes import MultinomialNB\n",
    "from sklearn.grid_search import GridSearchCV\n",
    "\n",
    "# SK-learn libraries for evaluation.\n",
    "from sklearn.metrics import confusion_matrix\n",
    "from sklearn import metrics\n",
    "from sklearn.metrics import classification_report"
   ]
  },
  {
   "cell_type": "code",
   "execution_count": null,
   "metadata": {
    "collapsed": true
   },
   "outputs": [],
   "source": []
  },
  {
   "cell_type": "code",
   "execution_count": 4,
   "metadata": {
    "collapsed": true
   },
   "outputs": [],
   "source": [
    "f = open(\"data/yelp_training_set_checkin.json\")\n",
    "lines = f.readlines()"
   ]
  },
  {
   "cell_type": "code",
   "execution_count": 10,
   "metadata": {
    "collapsed": false
   },
   "outputs": [
    {
     "name": "stdout",
     "output_type": "stream",
     "text": [
      "8282\n",
      "{\"checkin_info\": {\"0-5\": 1, \"2-6\": 2, \"2-5\": 3, \"3-6\": 1, \"3-5\": 1, \"19-4\": 1, \"19-2\": 1, \"18-0\": 1, \"23-0\": 1, \"17-4\": 1, \"18-5\": 4, \"17-1\": 1, \"11-2\": 1, \"12-6\": 1, \"0-0\": 3, \"14-6\": 1, \"1-6\": 2, \"20-3\": 1, \"10-6\": 1, \"13-6\": 1}, \"type\": \"checkin\", \"business_id\": \"oRqBAYtcBYZHXA7G8FlPaA\"}\n",
      "\n",
      "{\"checkin_info\": {\"16-1\": 1, \"16-3\": 2, \"15-1\": 1, \"15-0\": 1, \"15-4\": 1, \"15-6\": 1, \"18-1\": 1, \"18-3\": 1, \"14-6\": 1, \"16-5\": 1, \"19-1\": 1, \"19-3\": 1, \"11-5\": 1, \"13-5\": 2, \"12-6\": 1, \"12-4\": 1, \"12-5\": 1, \"9-1\": 1, \"9-0\": 1, \"9-3\": 1, \"9-2\": 2, \"17-6\": 3, \"17-4\": 1, \"17-1\": 3, \"17-0\": 1, \"10-5\": 1, \"8-2\": 2, \"8-3\": 1}, \"type\": \"checkin\", \"business_id\": \"1Nge1ObX93-y1AoXONt34A\"}\n",
      "\n"
     ]
    }
   ],
   "source": [
    "print len(lines)\n",
    "print lines[1]\n",
    "print lines[-1]"
   ]
  },
  {
   "cell_type": "code",
   "execution_count": 11,
   "metadata": {
    "collapsed": false
   },
   "outputs": [
    {
     "ename": "TypeError",
     "evalue": "read_json() got an unexpected keyword argument 'lines'",
     "output_type": "error",
     "traceback": [
      "\u001b[0;31m---------------------------------------------------------------------------\u001b[0m",
      "\u001b[0;31mTypeError\u001b[0m                                 Traceback (most recent call last)",
      "\u001b[0;32m<ipython-input-11-ab301b668a4e>\u001b[0m in \u001b[0;36m<module>\u001b[0;34m()\u001b[0m\n\u001b[0;32m----> 1\u001b[0;31m \u001b[0mcheckin\u001b[0m \u001b[0;34m=\u001b[0m \u001b[0mpd\u001b[0m\u001b[0;34m.\u001b[0m\u001b[0mread_json\u001b[0m\u001b[0;34m(\u001b[0m\u001b[0mopen\u001b[0m\u001b[0;34m(\u001b[0m\u001b[0;34m\"data/yelp_training_set_checkin.json\"\u001b[0m\u001b[0;34m)\u001b[0m\u001b[0;34m,\u001b[0m \u001b[0mlines\u001b[0m\u001b[0;34m=\u001b[0m\u001b[0mTrue\u001b[0m\u001b[0;34m)\u001b[0m\u001b[0;34m\u001b[0m\u001b[0m\n\u001b[0m",
      "\u001b[0;31mTypeError\u001b[0m: read_json() got an unexpected keyword argument 'lines'"
     ]
    }
   ],
   "source": [
    "checkin = pd.read_json(open(\"data/yelp_training_set_checkin.json\"), lines=True)\n"
   ]
  },
  {
   "cell_type": "code",
   "execution_count": 16,
   "metadata": {
    "collapsed": false
   },
   "outputs": [
    {
     "data": {
      "text/plain": [
       "u'0.18.0'"
      ]
     },
     "execution_count": 16,
     "metadata": {},
     "output_type": "execute_result"
    }
   ],
   "source": [
    "pd.__version__"
   ]
  },
  {
   "cell_type": "code",
   "execution_count": 18,
   "metadata": {
    "collapsed": false
   },
   "outputs": [
    {
     "data": {
      "text/plain": [
       "2"
      ]
     },
     "execution_count": 18,
     "metadata": {},
     "output_type": "execute_result"
    }
   ],
   "source": [
    "import sys\n",
    "sys.version_info[0]"
   ]
  },
  {
   "cell_type": "code",
   "execution_count": null,
   "metadata": {
    "collapsed": true
   },
   "outputs": [],
   "source": [
    "bsnes = \n",
    "checkin = pd.read_json(\"data/yelp_training_set_checkin.json\")\n",
    "user = \n",
    "review = "
   ]
  }
 ],
 "metadata": {
  "kernelspec": {
   "display_name": "Python 2",
   "language": "python",
   "name": "python2"
  },
  "language_info": {
   "codemirror_mode": {
    "name": "ipython",
    "version": 2
   },
   "file_extension": ".py",
   "mimetype": "text/x-python",
   "name": "python",
   "nbconvert_exporter": "python",
   "pygments_lexer": "ipython2",
   "version": "2.7.11"
  }
 },
 "nbformat": 4,
 "nbformat_minor": 0
}
